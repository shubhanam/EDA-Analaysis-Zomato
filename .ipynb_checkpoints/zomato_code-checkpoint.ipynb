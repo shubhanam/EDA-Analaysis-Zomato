{
 "cells": [
  {
   "cell_type": "markdown",
   "metadata": {},
   "source": [
    "# Project Title - Exploratory data analysis Zomato Banglore\n",
    "\n",
    "![](https://static.sportzbusiness.com/uploads/2020/09/Zomato.jpg)\n",
    "I was always thought that where i get best food. In sometimes ago i was in Banglore city and i ordered some food from the Zomato and after that i was completely surprise after done food. It was delicious. I ordered food from zomato approx 4 to 5 times and all time i got happy. The service of zomato was very good at Banguluru. After few years when i complete this course `Data analysis with python: Zero to Pandas`. I think that i have to do some analysis about zomato service at Bangluru. I got this data from one of the best and famous website kaggle.com. I am using some functions in python for Exploratry Data analysis. like:\n",
    "\n",
    "* **Pandas :** Pandas is an open source Python package that is most widely used for data science/data analysis and machine learning tasks. Pandas makes it simple to do many of the time consuming, repetitive tasks associated with working with data, including: `Data cleansing`,`Data fill`,`Data normalization`,`Merges and joins`,`Data visualization`,`Statistical analysis`,`Data inspection`,`Loading and saving data` And much more.\n",
    "* **Numpy :** NumPy is a Python library used for working with arrays. It also has functions for working in domain of linear algebra, fourier transform, and matrices. NumPy is a Python library and is written partially in Python, but most of the parts that require fast computation are written in C or C++.\n",
    "* **Matplotlib :** Matplotlib is a low level graph plotting library in python that serves as a visualization utility.\n",
    "* **Seaborn :** Seaborn is a Python data visualization library based on matplotlib. It provides a high-level interface for drawing attractive and informative statistical graphics.\n",
    "\n",
    "\n",
    "**Content :** The basic idea of analyzing the Zomato dataset is to get a fair idea about the factors affecting the establishment of different types of restaurant at different places in Bengaluru, aggregate rating of each restaurant, Bengaluru being one such city has more than 12,000 restaurants with restaurants serving dishes from all over the world. With each day new restaurants opening the industry has’nt been saturated yet and the demand is increasing day by day. Inspite of increasing demand it however has become difficult for new restaurants to compete with established restaurants. Most of them serving the same food. Bengaluru being an IT capital of India. Most of the people here are dependent mainly on the restaurant food as they don’t have time to cook for themselves. With such an overwhelming demand of restaurants it has therefore become important to study the demography of a location. What kind of a food is more popular in a locality. Do the entire locality loves vegetarian food. If yes then is that locality populated by a particular sect of people for eg. Jain, Marwaris, Gujaratis who are mostly vegetarian. These kind of analysis can be done using the data, by studying the factors such as\n",
    "\n",
    "- Location of the restaurant.\n",
    "- Approx Price of food.\n",
    "- Theme based restaurant or not.\n",
    "- Which locality of that city serves that cuisines with maximum number of restaurants.\n",
    "- The needs of people who are striving to get the best cuisine of the neighborhood.\n",
    "- Is a particular neighborhood famous for its own kind of food."
   ]
  },
  {
   "cell_type": "markdown",
   "metadata": {},
   "source": [
    "## Downloading the Dataset\n",
    "\n",
    "I got this data set from kaggle.com. there are two type of download the dataset from anywhere and analyze.\n",
    "\n",
    "1. use the `opendataset.download()` function and download the data directly from the link and do work on it directly.\n",
    "2. Download the dataset manually as .csv or any kind of formate and upload the data by using pandas.read_csv function.\n",
    "\n",
    "in this dataset i am using `opendatasets.download()` function by giving dataset link under the `Parenthesis`, and after doing this i am read the data by using `pandas.read_csv()` function."
   ]
  },
  {
   "cell_type": "code",
   "execution_count": 1,
   "metadata": {},
   "outputs": [
    {
     "name": "stderr",
     "output_type": "stream",
     "text": [
      "WARNING: You are using pip version 21.2.4; however, version 22.1.2 is available.\n",
      "You should consider upgrading via the 'C:\\Users\\acer\\AppData\\Local\\Programs\\Python\\Python310\\python.exe -m pip install --upgrade pip' command.\n"
     ]
    }
   ],
   "source": [
    "!pip install opendatasets --upgrade --quiet"
   ]
  },
  {
   "cell_type": "markdown",
   "metadata": {},
   "source": [
    "Let's begin by downloading the data, and listing the files within the dataset."
   ]
  },
  {
   "cell_type": "code",
   "execution_count": 2,
   "metadata": {},
   "outputs": [],
   "source": [
    "# giving variable name of the dataset link\n",
    "dataset_url = 'https://www.kaggle.com/datasets/himanshupoddar/zomato-bangalore-restaurants' "
   ]
  },
  {
   "cell_type": "code",
   "execution_count": 3,
   "metadata": {},
   "outputs": [
    {
     "name": "stdout",
     "output_type": "stream",
     "text": [
      "Downloading zomato-bangalore-restaurants.zip to .\\zomato-bangalore-restaurants\n"
     ]
    },
    {
     "name": "stderr",
     "output_type": "stream",
     "text": [
      "100%|█████████████████████████████████████████████████████████████████████████████| 89.0M/89.0M [00:14<00:00, 6.31MB/s]\n"
     ]
    },
    {
     "name": "stdout",
     "output_type": "stream",
     "text": [
      "\n"
     ]
    }
   ],
   "source": [
    "import opendatasets as od\n",
    "od.download(dataset_url)"
   ]
  },
  {
   "cell_type": "markdown",
   "metadata": {},
   "source": [
    "The dataset has been downloaded and extracted."
   ]
  },
  {
   "cell_type": "code",
   "execution_count": 4,
   "metadata": {},
   "outputs": [],
   "source": [
    "# Giving variable name of path\n",
    "data_dir = './zomato-bangalore-restaurants'"
   ]
  },
  {
   "cell_type": "code",
   "execution_count": 5,
   "metadata": {},
   "outputs": [
    {
     "data": {
      "text/plain": [
       "['zomato.csv']"
      ]
     },
     "execution_count": 5,
     "metadata": {},
     "output_type": "execute_result"
    }
   ],
   "source": [
    "import os\n",
    "os.listdir(data_dir)"
   ]
  },
  {
   "cell_type": "markdown",
   "metadata": {},
   "source": [
    "Let us save and upload our work to Jovian before continuing."
   ]
  },
  {
   "cell_type": "code",
   "execution_count": 6,
   "metadata": {},
   "outputs": [],
   "source": [
    "project_name = \"zomato-data-analysis-banglore\""
   ]
  },
  {
   "cell_type": "markdown",
   "metadata": {},
   "source": [
    "## Data Preparation and Cleaning\n",
    "\n",
    "**cleaning the data :** \n",
    " This time to do some cleaning data by like : drop unwanted data, remove irritated symbols, handle null values and much more.\n",
    "let's see how it happen.\n"
   ]
  },
  {
   "cell_type": "markdown",
   "metadata": {},
   "source": [
    "> - Load the dataset into a data frame using Pandas\n",
    "> - Explore the number of rows & columns, ranges of values etc.\n",
    "> - Handle missing, incorrect and invalid data\n",
    "> - Perform any additional steps (parsing dates, creating additional columns, merging multiple dataset etc.)"
   ]
  },
  {
   "cell_type": "code",
   "execution_count": null,
   "metadata": {},
   "outputs": [],
   "source": [
    "import pandas as pd\n",
    "import numpy as np"
   ]
  },
  {
   "cell_type": "code",
   "execution_count": null,
   "metadata": {},
   "outputs": [],
   "source": [
    "# Load the dataset in zomato_raw_df variable :\n",
    "zomato_raw_df = pd.read_csv('./zomato-bangalore-restaurants/zomato.csv')\n",
    "zomato_raw_df.head()"
   ]
  },
  {
   "cell_type": "code",
   "execution_count": null,
   "metadata": {},
   "outputs": [],
   "source": [
    "# copy zomato_raw_df to zomato_df.. because now we are doing some cleaning data.\n",
    "zomato_df = zomato_raw_df.copy()"
   ]
  },
  {
   "cell_type": "code",
   "execution_count": null,
   "metadata": {},
   "outputs": [],
   "source": [
    "# all column name :\n",
    "zomato_df.columns"
   ]
  },
  {
   "cell_type": "code",
   "execution_count": null,
   "metadata": {},
   "outputs": [],
   "source": [
    "# how many rows and columns are available in this data :\n",
    "zomato_df.shape"
   ]
  },
  {
   "cell_type": "code",
   "execution_count": null,
   "metadata": {},
   "outputs": [],
   "source": [
    "# Drop the unwanted columns \n",
    "zomato_df.drop(columns = ['url','address', 'phone', 'menu_item', 'dish_liked', 'reviews_list'],axis = 1, inplace = True)"
   ]
  },
  {
   "cell_type": "code",
   "execution_count": null,
   "metadata": {
    "scrolled": true
   },
   "outputs": [],
   "source": [
    "zomato_df.head()"
   ]
  },
  {
   "cell_type": "code",
   "execution_count": null,
   "metadata": {},
   "outputs": [],
   "source": [
    "# Drop duplicates in this dataset \n",
    "zomato_df.drop_duplicates(inplace= True)"
   ]
  },
  {
   "cell_type": "code",
   "execution_count": null,
   "metadata": {},
   "outputs": [],
   "source": [
    "zomato_df.shape"
   ]
  },
  {
   "cell_type": "code",
   "execution_count": null,
   "metadata": {
    "scrolled": true
   },
   "outputs": [],
   "source": [
    "zomato_df.info()"
   ]
  },
  {
   "cell_type": "code",
   "execution_count": null,
   "metadata": {},
   "outputs": [],
   "source": [
    "# check the null values :\n",
    "zomato_df.isnull().sum()"
   ]
  },
  {
   "cell_type": "markdown",
   "metadata": {},
   "source": [
    "**Handle Rate column :**\n",
    "there are 7755 null values in Rate column and Rate column datatype is object. so we have to handle all of this and do clean this column for analysis and visualization."
   ]
  },
  {
   "cell_type": "code",
   "execution_count": null,
   "metadata": {},
   "outputs": [],
   "source": [
    "zomato_df['rate'].unique()"
   ]
  },
  {
   "cell_type": "code",
   "execution_count": null,
   "metadata": {},
   "outputs": [],
   "source": [
    "# remove /5 and NEW in this column :\n",
    "def remove_unwanted(values):\n",
    "    if (values == 'NEW' or values == 'nan' or values == '-'):\n",
    "        return np.nan\n",
    "    else:\n",
    "        values = str(values).split('/')\n",
    "        values = values[0]\n",
    "        return float(values)\n",
    "    \n",
    "zomato_df['rate'] = zomato_df['rate'].apply(remove_unwanted)\n",
    "zomato_df['rate'].unique()"
   ]
  },
  {
   "cell_type": "code",
   "execution_count": null,
   "metadata": {},
   "outputs": [],
   "source": [
    "# handle missing values and also fill mean value in null column :\n",
    "zomato_df['rate'].fillna(zomato_df['rate'].mean(), inplace = True)"
   ]
  },
  {
   "cell_type": "code",
   "execution_count": null,
   "metadata": {},
   "outputs": [],
   "source": [
    "zomato_df.info()"
   ]
  },
  {
   "cell_type": "markdown",
   "metadata": {},
   "source": [
    " check another null values :"
   ]
  },
  {
   "cell_type": "code",
   "execution_count": null,
   "metadata": {},
   "outputs": [],
   "source": [
    "zomato_df.isnull().sum()"
   ]
  },
  {
   "cell_type": "code",
   "execution_count": null,
   "metadata": {},
   "outputs": [],
   "source": [
    "# Drop the rest null values :\n",
    "zomato_df.dropna(inplace= True)\n",
    "zomato_df.head()"
   ]
  },
  {
   "cell_type": "markdown",
   "metadata": {},
   "source": [
    "Drop the listed in (city) column. because we don't need location and listed in (city) both column. they both have same information.."
   ]
  },
  {
   "cell_type": "code",
   "execution_count": null,
   "metadata": {},
   "outputs": [],
   "source": [
    "zomato_df.drop(columns = ['listed_in(city)'], axis = 1, inplace = True)"
   ]
  },
  {
   "cell_type": "code",
   "execution_count": null,
   "metadata": {},
   "outputs": [],
   "source": [
    "zomato_df.head()"
   ]
  },
  {
   "cell_type": "markdown",
   "metadata": {},
   "source": [
    "Check the `approx_cost(for two people)` columns and clean it. :"
   ]
  },
  {
   "cell_type": "code",
   "execution_count": null,
   "metadata": {},
   "outputs": [],
   "source": [
    "zomato_df['approx_cost(for two people)'].unique()"
   ]
  },
  {
   "cell_type": "code",
   "execution_count": null,
   "metadata": {},
   "outputs": [],
   "source": [
    "# Remove comma and change the dtype object to int64\n",
    "zomato_df['approx_cost(for two people)'] = zomato_df['approx_cost(for two people)'].str.replace(',','')\n",
    "zomato_df['approx_cost(for two people)'] = zomato_df['approx_cost(for two people)'].astype(int)"
   ]
  },
  {
   "cell_type": "code",
   "execution_count": null,
   "metadata": {},
   "outputs": [],
   "source": [
    "zomato_df['approx_cost(for two people)'].unique()"
   ]
  },
  {
   "cell_type": "code",
   "execution_count": null,
   "metadata": {},
   "outputs": [],
   "source": [
    "zomato_df.head()"
   ]
  },
  {
   "cell_type": "markdown",
   "metadata": {},
   "source": [
    "Check the `rest_type` column and clean it if want :"
   ]
  },
  {
   "cell_type": "code",
   "execution_count": null,
   "metadata": {},
   "outputs": [],
   "source": [
    "zomato_df['rest_type'].unique()"
   ]
  },
  {
   "cell_type": "code",
   "execution_count": null,
   "metadata": {},
   "outputs": [],
   "source": [
    "value_rest_type = zomato_df['rest_type'].value_counts()\n",
    "value_rest_type"
   ]
  },
  {
   "cell_type": "code",
   "execution_count": null,
   "metadata": {},
   "outputs": [],
   "source": [
    "less_than1000_rest_type = value_rest_type[value_rest_type < 1000]\n",
    "less_than1000_rest_type"
   ]
  },
  {
   "cell_type": "code",
   "execution_count": null,
   "metadata": {},
   "outputs": [],
   "source": [
    "# create function and return all value which has less than 1000 .\n",
    "def rest_type(value):\n",
    "    if (value in less_than1000_rest_type):\n",
    "        return 'others'\n",
    "    else:\n",
    "        return value\n",
    "    \n",
    "zomato_df['rest_type'] = zomato_df['rest_type'].apply(rest_type)\n",
    "zomato_df['rest_type'].value_counts()"
   ]
  },
  {
   "cell_type": "markdown",
   "metadata": {},
   "source": [
    "Clean the `cuisines` column like same as rest_type :"
   ]
  },
  {
   "cell_type": "code",
   "execution_count": null,
   "metadata": {},
   "outputs": [],
   "source": [
    "cuisines_count = zomato_df['cuisines'].value_counts(ascending = False)\n",
    "cuisines_count"
   ]
  },
  {
   "cell_type": "code",
   "execution_count": null,
   "metadata": {},
   "outputs": [],
   "source": [
    "cuisines_less_than500 = cuisines_count[cuisines_count < 500]\n",
    "cuisines_less_than500"
   ]
  },
  {
   "cell_type": "code",
   "execution_count": null,
   "metadata": {},
   "outputs": [],
   "source": [
    "# return all less than 500 cuisines to others :\n",
    "def cuisines_column(value):\n",
    "    if (value in cuisines_less_than500):\n",
    "        return 'others'\n",
    "    else:\n",
    "        return value\n",
    "\n",
    "zomato_df['cuisines'] = zomato_df['cuisines'].apply(cuisines_column)\n",
    "zomato_df['cuisines'].value_counts()"
   ]
  },
  {
   "cell_type": "markdown",
   "metadata": {},
   "source": [
    "clean the `Location` column :"
   ]
  },
  {
   "cell_type": "code",
   "execution_count": null,
   "metadata": {},
   "outputs": [],
   "source": [
    "location_counts = zomato_df['location'].value_counts(ascending = False)\n",
    "location_counts"
   ]
  },
  {
   "cell_type": "code",
   "execution_count": null,
   "metadata": {},
   "outputs": [],
   "source": [
    "less_than500_location = location_counts[location_counts < 500]\n",
    "less_than500_location"
   ]
  },
  {
   "cell_type": "code",
   "execution_count": null,
   "metadata": {},
   "outputs": [],
   "source": [
    "def location_column(value):\n",
    "    if (value in less_than500_location):\n",
    "        return 'others'\n",
    "    else:\n",
    "        return value\n",
    "\n",
    "zomato_df['location'] = zomato_df['location'].apply(location_column)\n",
    "zomato_df['location'].value_counts()"
   ]
  },
  {
   "cell_type": "markdown",
   "metadata": {},
   "source": [
    "## Exploratory Analysis and Visualization\n",
    "\n",
    "Data is completely cleaned and ready to use. now this time to visualize the data and better understand what exactly data is saying. for do this we will use some useful two function like : `matplotlib` and `seaborn`."
   ]
  },
  {
   "cell_type": "markdown",
   "metadata": {},
   "source": [
    "Let's begin by importing`matplotlib.pyplot` and `seaborn`."
   ]
  },
  {
   "cell_type": "code",
   "execution_count": null,
   "metadata": {},
   "outputs": [],
   "source": [
    "import seaborn as sns\n",
    "import matplotlib\n",
    "import matplotlib.pyplot as plt\n",
    "%matplotlib inline\n",
    "\n",
    "sns.set_style('darkgrid')\n",
    "matplotlib.rcParams['font.size'] = 14\n",
    "matplotlib.rcParams['figure.figsize'] = (9, 5)\n",
    "matplotlib.rcParams['figure.facecolor'] = '#00000000'"
   ]
  },
  {
   "cell_type": "code",
   "execution_count": null,
   "metadata": {
    "scrolled": true
   },
   "outputs": [],
   "source": [
    "zomato_df.head()"
   ]
  },
  {
   "cell_type": "markdown",
   "metadata": {},
   "source": [
    "**Order online :** lets understand how many customer do order online and how many not do this..."
   ]
  },
  {
   "cell_type": "markdown",
   "metadata": {},
   "source": [
    "\n",
    "![](https://5.imimg.com/data5/OS/PP/CA/SELLER-6623185/food-delivery-app-development-like-ubereats-zomato-swiggy-foodpanda-etc--500x500.jpg)"
   ]
  },
  {
   "cell_type": "code",
   "execution_count": null,
   "metadata": {},
   "outputs": [],
   "source": [
    "import warnings\n",
    "warnings.filterwarnings('ignore')"
   ]
  },
  {
   "cell_type": "code",
   "execution_count": null,
   "metadata": {
    "scrolled": false
   },
   "outputs": [],
   "source": [
    "# create pie chart to understand the percentage the customers who do always online orders :\n",
    "online_orders = zomato_df['online_order'].value_counts()\n",
    "online_orders.plot.pie(y='name',radius=1.1,autopct='%0.1f%%',shadow=True)\n",
    "plt.title('Percentage of Customers online orders');"
   ]
  },
  {
   "cell_type": "markdown",
   "metadata": {},
   "source": [
    "**Location :** Let's check how many orders having in diffrent locations. for do this we will use `countplot` function in seaborn library ..\n",
    "- **note :** please ignore `others` location name in below graph. because others string has multiple location inside it."
   ]
  },
  {
   "cell_type": "code",
   "execution_count": null,
   "metadata": {},
   "outputs": [],
   "source": [
    "plt.figure(figsize = (16,10))\n",
    "plt.title('Location orders')\n",
    "sns.countplot(y=zomato_df['location']);"
   ]
  },
  {
   "cell_type": "markdown",
   "metadata": {},
   "source": [
    "- we can easily understand that `BTM` location has highest orders zomato got.. and second number is `HSR` location.."
   ]
  },
  {
   "cell_type": "markdown",
   "metadata": {},
   "source": [
    "**Book Table :**\n",
    "How many person book table in Banglore city ..."
   ]
  },
  {
   "cell_type": "markdown",
   "metadata": {},
   "source": [
    "<img src='https://4.bp.blogspot.com/-lnM6Szj8rI8/WWSREgSjjFI/AAAAAAAAAHI/OLneHeewSDcC3xfdW4n1yyHwNkXa9ja7ACLcBGAs/s1600/book-a-table-in-restaurant-online.jpg' style='width:600px;hights:400px'/>"
   ]
  },
  {
   "cell_type": "code",
   "execution_count": null,
   "metadata": {},
   "outputs": [],
   "source": [
    "book_tables = zomato_df['book_table'].value_counts()\n",
    "book_tables.plot.pie(y='name',radius=1.2,autopct='%0.1f%%',shadow=True, colors = ['#00bdfe', '#24b44c'])\n",
    "plt.title('Percentage of Customers Book tables');"
   ]
  },
  {
   "cell_type": "markdown",
   "metadata": {},
   "source": [
    "**Online Orders and Rate :**\n",
    "Let's understand the relationship between the online orders and rate ..."
   ]
  },
  {
   "cell_type": "code",
   "execution_count": null,
   "metadata": {
    "scrolled": true
   },
   "outputs": [],
   "source": [
    "sns.boxplot(x = 'rate', y = 'online_order', \n",
    "            data = zomato_df);"
   ]
  },
  {
   "cell_type": "markdown",
   "metadata": {},
   "source": [
    "## Asking and Answering Questions."
   ]
  },
  {
   "cell_type": "markdown",
   "metadata": {},
   "source": [
    "<img src='https://img.freepik.com/free-vector/people-thinking-about-something-smilling-woman-holds-chin_131454-387.jpg?w=2000' style='width:450px;hight:300px'/>"
   ]
  },
  {
   "cell_type": "markdown",
   "metadata": {},
   "source": [
    "#### Q1: Which location has maximum online orders ?"
   ]
  },
  {
   "cell_type": "code",
   "execution_count": null,
   "metadata": {},
   "outputs": [],
   "source": [
    "zomato_df.head()"
   ]
  },
  {
   "cell_type": "code",
   "execution_count": null,
   "metadata": {},
   "outputs": [],
   "source": [
    "df = zomato_df.groupby(['location','online_order'])['name'].count()\n",
    "df.to_csv('location_online.csv')\n",
    "df = pd.read_csv('location_online.csv')\n",
    "df = pd.pivot_table(df, values=None, index=['location'], columns=['online_order'], fill_value=0, aggfunc=np.sum)\n",
    "clean_df = df.iloc[:-1]\n",
    "clean_df.head()"
   ]
  },
  {
   "cell_type": "code",
   "execution_count": null,
   "metadata": {},
   "outputs": [],
   "source": [
    "clean_df.plot(kind = 'bar', figsize = (15,8), title='online orders in location');"
   ]
  },
  {
   "cell_type": "markdown",
   "metadata": {},
   "source": [
    "#### Q2: Which location has maximum rating about Restaurants?"
   ]
  },
  {
   "cell_type": "markdown",
   "metadata": {},
   "source": [
    "<img src='https://assets-global.website-files.com/5eff9c5e4dba181f8aa2d1e0/614dfaed9cdcb08628f3b1cc_5-star-rating.jpeg'\n",
    "     style='width:450px;hight:300px'/>"
   ]
  },
  {
   "cell_type": "code",
   "execution_count": null,
   "metadata": {},
   "outputs": [],
   "source": [
    "zomato_df.head()"
   ]
  },
  {
   "cell_type": "code",
   "execution_count": null,
   "metadata": {},
   "outputs": [],
   "source": [
    "df2 = zomato_df.groupby(['location'], as_index=False)[['rate']].mean()\n",
    "clean_df2 = df2.iloc[:34]\n",
    "clean_df2"
   ]
  },
  {
   "cell_type": "code",
   "execution_count": null,
   "metadata": {},
   "outputs": [],
   "source": [
    "plt.figure(figsize = (14,9))\n",
    "plt.title('Maximum rated restaurents in Location')\n",
    "plt.xticks(rotation = 90)\n",
    "plt.xlabel('Location')\n",
    "plt.ylabel('Rating')\n",
    "plt.plot(df2['location'], df2['rate'],'s-r')\n",
    "sns.barplot(x='location', y='rate', data=clean_df2,palette='rainbow');"
   ]
  },
  {
   "cell_type": "markdown",
   "metadata": {},
   "source": [
    "#### Q3: Which Location got maximum votes ?"
   ]
  },
  {
   "cell_type": "markdown",
   "metadata": {},
   "source": [
    "<img src='https://media-exp1.licdn.com/dms/image/C4D12AQHiG8jz7UBTTw/article-cover_image-shrink_600_2000/0/1558744807546?e=1657152000&v=beta&t=vlg5K-OH4eNRKSETukWDRNJw1juP8wnPqTymCqrhj9o' style='width:300px;hight:200px'/>"
   ]
  },
  {
   "cell_type": "code",
   "execution_count": null,
   "metadata": {},
   "outputs": [],
   "source": [
    "zomato_df.head()"
   ]
  },
  {
   "cell_type": "code",
   "execution_count": null,
   "metadata": {},
   "outputs": [],
   "source": [
    "votes_df=zomato_df.groupby(['location'], as_index = False)[['votes']].sum()\n",
    "clean_votes_df = votes_df.iloc[:34]\n",
    "clean_votes_df"
   ]
  },
  {
   "cell_type": "code",
   "execution_count": null,
   "metadata": {},
   "outputs": [],
   "source": [
    "plt.figure(figsize = (14,9))\n",
    "plt.title('Maximum votes in Location')\n",
    "plt.xticks(rotation = 90)\n",
    "sns.barplot(x='location',y='votes',data=clean_votes_df);"
   ]
  },
  {
   "cell_type": "markdown",
   "metadata": {},
   "source": [
    "#### Q4: Which cuisines got highest votes ?"
   ]
  },
  {
   "cell_type": "markdown",
   "metadata": {},
   "source": [
    "<img src='https://thumbor.thedailymeal.com/RMy0wX6kVNVYQPH0Qgt6Q3HBSEc=//https://www.thedailymeal.com/sites/default/files/2020/05/28/iconic_dishes_hero.jpg' style='width:300px;hight:450px'/>"
   ]
  },
  {
   "cell_type": "code",
   "execution_count": null,
   "metadata": {},
   "outputs": [],
   "source": [
    "zomato_df.head()"
   ]
  },
  {
   "cell_type": "code",
   "execution_count": null,
   "metadata": {
    "scrolled": false
   },
   "outputs": [],
   "source": [
    "cuisines_df = zomato_df.groupby(['cuisines'],as_index = False, sort= False)[['votes']].sum()\n",
    "clean_cuisines_df = cuisines_df.iloc[1:]\n",
    "clean_cuisines_df"
   ]
  },
  {
   "cell_type": "code",
   "execution_count": null,
   "metadata": {},
   "outputs": [],
   "source": [
    "plt.title('Cuisines has highest Votes')\n",
    "plt.xticks(rotation = 90)\n",
    "sns.barplot(x='cuisines',y='votes',data=clean_cuisines_df);"
   ]
  },
  {
   "cell_type": "markdown",
   "metadata": {},
   "source": [
    "#### Q5: Which location has highest cost food for 2 person ?"
   ]
  },
  {
   "cell_type": "markdown",
   "metadata": {},
   "source": [
    "<img src ='http://thecontextofthings.com/wp-content/uploads/2018/08/sample-money-vector-illustration.jpg' style='width:300px;hight:350px'/>"
   ]
  },
  {
   "cell_type": "code",
   "execution_count": null,
   "metadata": {},
   "outputs": [],
   "source": [
    "zomato_df.head()"
   ]
  },
  {
   "cell_type": "code",
   "execution_count": null,
   "metadata": {},
   "outputs": [],
   "source": [
    "cost_df = zomato_df.groupby(['location'], as_index = False)[['approx_cost(for two people)']].max()\n",
    "clean_cost_df = cost_df.iloc[:-1]\n",
    "clean_cost_df"
   ]
  },
  {
   "cell_type": "code",
   "execution_count": null,
   "metadata": {},
   "outputs": [],
   "source": [
    "plt.figure(figsize = (14,9))\n",
    "plt.title('Which location is costely for 2 person')\n",
    "sns.barplot(y='location', x='approx_cost(for two people)', data = clean_cost_df);"
   ]
  },
  {
   "cell_type": "markdown",
   "metadata": {},
   "source": [
    "## Inferences and Conclusion\n",
    "\n",
    "zomato is one of the best food online service. they have lots of the restaurants for delivery food. In this data we can understand lots of the things easily and understand the situation of zomato in banglore.\n",
    "- There are 59.2% customers do online orders. Which is great percentage.\n",
    "- 12.6% customers doesn't want to book table from zomato app. May be some application or website problem when book table or may be book table feature is not enough in zomato website.\n",
    "- Relation ship of online orders and rate is positive.\n",
    "- We can easily understand that maximum orders from BTM location in Banglore. Maybe zomato service is very good at this place or may be food is very good at this place.\n",
    "- The maximum rating in Lavelle Road location in banglore. May be this location has best food.\n",
    "- We can easily understand that customers do maximum voting at Koramangala 5th Block location in Banglore for zomato app use. \n",
    "- Maximum numbers of Customers love to eat north indian dishes alot in banglore. May be north indian dishes is best at banglore.\n",
    "- Marathahalli is the one of the location in Banglore which has maximum costly foods for two people."
   ]
  },
  {
   "cell_type": "markdown",
   "metadata": {},
   "source": [
    "## References and Future Work\n",
    "\n",
    "Resources referred:\n",
    "\n",
    "- Stack Overflow\n",
    "- W3schoold.com\n",
    "- GeeksforGeeks\n",
    "- matplotlib documentations \n",
    "\n",
    "Project reffered:\n",
    "- Kaggle.com\n",
    "\n",
    "All image is downloaded from google and zomato website and also wikipedia.\n",
    "We can come back to optimise the code used in the current project, and use other libraries to plot different, more interactive graphs."
   ]
  },
  {
   "cell_type": "markdown",
   "metadata": {},
   "source": [
    "**Thanks for giving your valuable time for see my Exploratory Data Analysis project. This is my first project and i loved to do that. I enjoyed all the part of this project. I love to do more and make another projects. I learned lots of the things by doing this. I look forward to use the knowledge I have gained in this course and make more and better projects.**\n",
    "\n",
    "#                                                Thank you 😊😊"
   ]
  }
 ],
 "metadata": {
  "kernelspec": {
   "display_name": "Python 3 (ipykernel)",
   "language": "python",
   "name": "python3"
  },
  "language_info": {
   "codemirror_mode": {
    "name": "ipython",
    "version": 3
   },
   "file_extension": ".py",
   "mimetype": "text/x-python",
   "name": "python",
   "nbconvert_exporter": "python",
   "pygments_lexer": "ipython3",
   "version": "3.10.2"
  }
 },
 "nbformat": 4,
 "nbformat_minor": 4
}
